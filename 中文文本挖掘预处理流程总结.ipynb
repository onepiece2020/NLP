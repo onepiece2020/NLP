{
 "cells": [
  {
   "cell_type": "markdown",
   "metadata": {},
   "source": [
    "在对文本做数据分析时，我们一大半的时间都会花在文本预处理上，而中文和英文的预处理流程稍有不同，本文就对中文文本挖掘的预处理流程做一个总结。\n",
    "\n",
    "# 1. 中文文本挖掘预处理特点\n",
    "　　　　首先我们看看中文文本挖掘预处理和英文文本挖掘预处理相比的一些特殊点。\n",
    "\n",
    "　　　　首先，中文文本是没有像英文的单词空格那样隔开的，因此不能直接像英文一样可以直接用最简单的空格和标点符号完成分词。所以一般我们需要用分词算法来完成分词，在文本挖掘的分词原理中，我们已经讲到了中文的分词原理，这里就不多说。\n",
    "\n",
    "　　　　第二，中文的编码不是utf8，而是unicode。这样会导致在分词的时候，和英文相比，我们要处理编码的问题。\n",
    "\n",
    "　　　　这两点构成了中文分词相比英文分词的一些不同点，后面我们也会重点讲述这部分的处理。当然，英文分词也有自己的烦恼，这个我们在以后再讲。了解了中文预处理的一些特点后，我们就言归正传，通过实践总结下中文文本挖掘预处理流程。\n",
    "\n",
    "# 2.  中文文本挖掘预处理一：数据收集\n",
    "　　　　在文本挖掘之前，我们需要得到文本数据，文本数据的获取方法一般有两种：使用别人做好的语料库和自己用爬虫去在网上去爬自己的语料数据。\n",
    "\n",
    "　　　　对于第一种方法，常用的文本语料库在网上有很多，如果大家只是学习，则可以直接下载下来使用，但如果是某些特殊主题的语料库，比如“机器学习”相关的语料库，则这种方法行不通，需要我们自己用第二种方法去获取。\n",
    "\n",
    "　　　　对于第二种使用爬虫的方法，开源工具有很多，通用的爬虫我一般使用beautifulsoup。但是我们我们需要某些特殊的语料数据，比如上面提到的“机器学习”相关的语料库，则需要用主题爬虫（也叫聚焦爬虫）来完成。这个我一般使用ache。 ache允许我们用关键字或者一个分类算法来过滤出我们需要的主题语料，比较强大。\n",
    "\n",
    "# 3.  中文文本挖掘预处理二：除去数据中非文本部分\n",
    "　　　　这一步主要是针对我们用爬虫收集的语料数据，由于爬下来的内容中有很多html的一些标签，需要去掉。少量的非文本内容的可以直接用Python的正则表达式(re)删除, 复杂的则可以用beautifulsoup来去除。去除掉这些非文本的内容后，我们就可以进行真正的文本预处理了。\n",
    "\n",
    "# 4. 中文文本挖掘预处理三：处理中文编码问题\n",
    "　　　　由于Python2不支持unicode的处理，因此我们使用Python2做中文文本预处理时需要遵循的原则是，存储数据都用utf8，读出来进行中文相关处理时，使用GBK之类的中文编码，在下面一节的分词时，我们再用例子说明这个问题。\n",
    "\n",
    "# 5. 中文文本挖掘预处理四：中文分词\n",
    "　　　　常用的中文分词软件有很多，个人比较推荐结巴分词。安装也很简单，比如基于Python的，用\"pip install jieba\"就可以完成。下面我们就用例子来看看如何中文分词。\n",
    "\n",
    "　　　　完整代码参见我的github: https://github.com/ljpzzz/machinelearning/blob/master/natural-language-processing/chinese_digging.ipynb\n",
    "\n",
    "　　　　首先我们准备了两段文本，这两段文本在两个文件中。两段文本的内容分别是nlp_test0.txt和nlp_test2.txt：\n",
    "\n",
    "          沙瑞金赞叹易学习的胸怀，是金山的百姓有福，可是这件事对李达康的触动很大。易学习又回忆起他们三人分开的前一晚，大家一起喝酒话别，易学习被降职到道口县当县长，王大路下海经商，李达康连连赔礼道歉，觉得对不起大家，他最对不起的是王大路，就和易学习一起给王大路凑了5万块钱，王大路自己东挪西撮了5万块，开始下海经商。没想到后来王大路竟然做得风生水起。沙瑞金觉得他们三人，在困难时期还能以沫相助，很不容易。\n",
    "\n",
    "　　　　沙瑞金向毛娅打听他们家在京州的别墅，毛娅笑着说，王大路事业有成之后，要给欧阳菁和她公司的股权，她们没有要，王大路就在京州帝豪园买了三套别墅，可是李达康和易学习都不要，这些房子都在王大路的名下，欧阳菁好像去住过，毛娅不想去，她觉得房子太大很浪费，自己家住得就很踏实。\n",
    "\n",
    "　　　我们先讲文本从第一个文件中读取，并使用中文GBK编码，再调用结巴分词，最后把分词结果用uft8格式存在另一个文本nlp_test1.txt\n",
    "\n",
    "中。代码如下："
   ]
  },
  {
   "cell_type": "code",
   "execution_count": 7,
   "metadata": {},
   "outputs": [
    {
     "name": "stdout",
     "output_type": "stream",
     "text": [
      "Empty DataFrame\n",
      "Columns: [沙瑞金赞叹易学习的胸怀，是金山的百姓有福，可是这件事对李达康的触动很大。易学习又回忆起他们三人分开的前一晚，大家一起喝酒话别，易学习被降职到道口县当县长，王大路下海经商，李达康连连赔礼道歉，觉得对不起大家，他最对不起的是王大路，就和易学习一起给王大路凑了5万块钱，王大路自己东挪西撮了5万块，开始下海经商。没想到后来王大路竟然做得风生水起。沙瑞金觉得他们三人，在困难时期还能以沫相助，很不容易。]\n",
      "Index: []\n"
     ]
    }
   ],
   "source": [
    "import pandas as pd\n",
    "test=pd.read_table('nlp_test0.txt',encoding='GBK')\n",
    "print(test)"
   ]
  },
  {
   "cell_type": "code",
   "execution_count": 5,
   "metadata": {},
   "outputs": [],
   "source": [
    "# -*- coding: utf-8 -*-\n",
    "\n",
    "import jieba\n",
    "\n",
    "with open('./nlp_test0.txt') as f:\n",
    "    document = f.read()\n",
    "    \n",
    "#     document_decode = document.decode('GBK')\n",
    "    document_cut = jieba.cut(document)\n",
    "    #print  ' '.join(jieba_cut)  //如果打印结果，则分词效果消失，后面的result无法显示\n",
    "    result = ' '.join(document_cut)\n",
    "#     result = result.encode('utf-8')\n",
    "    with open('./nlp_test1.txt', 'w') as f2:\n",
    "        f2.write(result)\n",
    "f.close()\n",
    "f2.close()"
   ]
  },
  {
   "cell_type": "code",
   "execution_count": 8,
   "metadata": {},
   "outputs": [
    {
     "name": "stdout",
     "output_type": "stream",
     "text": [
      "Empty DataFrame\n",
      "Columns: [沙 瑞金 赞叹 易 学习 的 胸怀 ， 是 金山 的 百姓 有福 ， 可是 这件 事对 李达康 的 触动 很大 。 易 学习 又 回忆起 他们 三人 分开 的 前一晚 ， 大家 一起 喝酒 话别 ， 易 学习 被 降职 到 道口 县当 县长 ， 王 大路 下海经商 ， 李达康 连连 赔礼道歉 ， 觉得 对不起 大家 ， 他 最 对不起 的 是 王 大路 ， 就 和 易 学习 一起 给 王 大路 凑 了 5 万块 钱 ， 王 大路 自己 东挪西撮 了 5 万块 ， 开始 下海经商 。 没想到 后来 王 大路 竟然 做 得 风生水 起 。 沙 瑞金 觉得 他们 三人 ， 在 困难 时期 还 能 以沫 相助 ， 很 不 容易 。]\n",
      "Index: []\n"
     ]
    }
   ],
   "source": [
    "test1=pd.read_table('nlp_test1.txt',encoding='GBK')\n",
    "print(test1)"
   ]
  },
  {
   "cell_type": "markdown",
   "metadata": {},
   "source": [
    "可以发现对于一些人名和地名，jieba处理的不好，不过我们可以帮jieba加入词汇如下："
   ]
  },
  {
   "cell_type": "code",
   "execution_count": 9,
   "metadata": {},
   "outputs": [
    {
     "data": {
      "text/plain": [
       "2"
      ]
     },
     "execution_count": 9,
     "metadata": {},
     "output_type": "execute_result"
    }
   ],
   "source": [
    "jieba.suggest_freq('沙瑞金', True)\n",
    "jieba.suggest_freq('易学习', True)\n",
    "jieba.suggest_freq('王大路', True)\n",
    "jieba.suggest_freq('京州', True)"
   ]
  },
  {
   "cell_type": "markdown",
   "metadata": {},
   "source": [
    "现在我们再来进行读文件，编码，分词，编码和写文件，代码如下："
   ]
  },
  {
   "cell_type": "code",
   "execution_count": 11,
   "metadata": {},
   "outputs": [],
   "source": [
    "with open('./nlp_test0.txt') as f:\n",
    "    document = f.read()\n",
    "    \n",
    "#     document_decode = document.decode('GBK')\n",
    "    document_cut = jieba.cut(document)\n",
    "    #print  ' '.join(jieba_cut)\n",
    "    result = ' '.join(document_cut)\n",
    "#     result = result.encode('utf-8')\n",
    "    with open('./nlp_test1.txt', 'w') as f2:\n",
    "        f2.write(result)\n",
    "f.close()\n",
    "f2.close()"
   ]
  },
  {
   "cell_type": "code",
   "execution_count": 12,
   "metadata": {},
   "outputs": [
    {
     "name": "stdout",
     "output_type": "stream",
     "text": [
      "Empty DataFrame\n",
      "Columns: [沙瑞金 赞叹 易学习 的 胸怀 ， 是 金山 的 百姓 有福 ， 可是 这件 事对 李达康 的 触动 很大 。 易学习 又 回忆起 他们 三人 分开 的 前一晚 ， 大家 一起 喝酒 话别 ， 易学习 被 降职 到 道口 县当 县长 ， 王大路 下海经商 ， 李达康 连连 赔礼道歉 ， 觉得 对不起 大家 ， 他 最 对不起 的 是 王大路 ， 就 和 易学习 一起 给 王大路 凑 了 5 万块 钱 ， 王大路 自己 东挪西撮 了 5 万块 ， 开始 下海经商 。 没想到 后来 王大路 竟然 做 得 风生水 起 。 沙瑞金 觉得 他们 三人 ， 在 困难 时期 还 能 以沫 相助 ， 很 不 容易 。]\n",
      "Index: []\n"
     ]
    }
   ],
   "source": [
    "test1=pd.read_table('nlp_test1.txt',encoding='GBK')\n",
    "print(test1)"
   ]
  },
  {
   "cell_type": "markdown",
   "metadata": {},
   "source": [
    "基本已经可以满足要求。同样的方法我们对第二段文本nlp_test2.txt进行分词和写入文件nlp_test3.txt。"
   ]
  },
  {
   "cell_type": "code",
   "execution_count": 13,
   "metadata": {},
   "outputs": [],
   "source": [
    "with open('./nlp_test2.txt') as f:\n",
    "    document2 = f.read()\n",
    "    \n",
    "#     document2_decode = document2.decode('GBK')\n",
    "    document2_cut = jieba.cut(document2)\n",
    "    #print  ' '.join(jieba_cut)\n",
    "    result = ' '.join(document2_cut)\n",
    "#     result = result.encode('utf-8')\n",
    "    with open('./nlp_test3.txt', 'w') as f2:\n",
    "        f2.write(result)\n",
    "f.close()\n",
    "f2.close()"
   ]
  },
  {
   "cell_type": "code",
   "execution_count": 15,
   "metadata": {},
   "outputs": [
    {
     "name": "stdout",
     "output_type": "stream",
     "text": [
      "Empty DataFrame\n",
      "Columns: [沙瑞金 向 毛娅 打听 他们 家 在 京州 的 别墅 ， 毛娅 笑 着 说 ， 王大路 事业有成 之后 ， 要 给 欧阳 菁 和 她 公司 的 股权 ， 她们 没有 要 ， 王大路 就 在 京州 帝豪园 买 了 三套 别墅 ， 可是 李达康 和 易学习 都 不要 ， 这些 房子 都 在 王大路 的 名下 ， 欧阳 菁 好像 去 住 过 ， 毛娅 不想 去 ， 她 觉得 房子 太大 很 浪费 ， 自己 家住 得 就 很 踏实 。]\n",
      "Index: []\n"
     ]
    }
   ],
   "source": [
    "test3=pd.read_table('nlp_test3.txt',encoding='GBK')\n",
    "print(test3)"
   ]
  },
  {
   "cell_type": "markdown",
   "metadata": {},
   "source": [
    "可见分词效果还不错。\n",
    "\n",
    "# 6. 中文文本挖掘预处理五：引入停用词\n",
    "　　　　在上面我们解析的文本中有很多无效的词，比如“着”，“和”，还有一些标点符号，这些我们不想在文本分析的时候引入，因此需要去掉，这些词就是停用词。常用的中文停用词表是1208个，下载地址在这。当然也有其他版本的停用词表，不过这个1208词版是我常用的。\n",
    "\n",
    "　　　　在我们用scikit-learn做特征处理的时候，可以通过参数stop_words来引入一个数组作为停用词表。\n",
    "\n",
    "　　　　现在我们将停用词表从文件读出，并切分成一个数组备用："
   ]
  },
  {
   "cell_type": "code",
   "execution_count": 16,
   "metadata": {},
   "outputs": [],
   "source": [
    "#从文件导入停用词表\n",
    "stpwrdpath = \"stop_words.txt\"\n",
    "stpwrd_dic = open(stpwrdpath, 'rb')\n",
    "stpwrd_content = stpwrd_dic.read()\n",
    "#将停用词表转换为list  \n",
    "stpwrdlst = stpwrd_content.splitlines()\n",
    "stpwrd_dic.close()"
   ]
  },
  {
   "cell_type": "code",
   "execution_count": 17,
   "metadata": {},
   "outputs": [
    {
     "name": "stdout",
     "output_type": "stream",
     "text": [
      "[b',', b'?', b'\\xa1\\xa2', b'\\xa1\\xa3', b'\\xa1\\xb0', b'\\xa1\\xb1', b'\\xa1\\xb6', b'\\xa1\\xb7', b'\\xa3\\xa1', b'\\xa3\\xac', b'\\xa3\\xba', b'\\xa3\\xbb', b'\\xa3\\xbf', b'\\xc8\\xcb\\xc3\\xf1', b'\\xc4\\xa9##\\xc4\\xa9', b'\\xb0\\xa1', b'\\xb0\\xa2', b'\\xb0\\xa5', b'\\xb0\\xa5\\xd1\\xbd', b'\\xb0\\xa5\\xd3\\xb4', b'\\xb0\\xa6', b'\\xb0\\xb3', b'\\xb0\\xb3\\xc3\\xc7', b'\\xb0\\xb4', b'\\xb0\\xb4\\xd5\\xd5', b'\\xb0\\xc9', b'\\xb0\\xc9\\xdf\\xd5', b'\\xb0\\xd1', b'\\xb0\\xd5\\xc1\\xcb', b'\\xb1\\xbb', b'\\xb1\\xbe', b'\\xb1\\xbe\\xd7\\xc5', b'\\xb1\\xc8', b'\\xb1\\xc8\\xb7\\xbd', b'\\xb1\\xc8\\xc8\\xe7', b'\\xb1\\xc9\\xc8\\xcb', b'\\xb1\\xcb', b'\\xb1\\xcb\\xb4\\xcb', b'\\xb1\\xdf', b'\\xb1\\xf0', b'\\xb1\\xf0\\xb5\\xc4', b'\\xb1\\xf0\\xcb\\xb5', b'\\xb2\\xa2', b'\\xb2\\xa2\\xc7\\xd2', b'\\xb2\\xbb\\xb1\\xc8', b'\\xb2\\xbb\\xb3\\xc9', b'\\xb2\\xbb\\xb5\\xa5', b'\\xb2\\xbb\\xb5\\xab', b'\\xb2\\xbb\\xb6\\xc0', b'\\xb2\\xbb\\xb9\\xdc', b'\\xb2\\xbb\\xb9\\xe2', b'\\xb2\\xbb\\xb9\\xfd', b'\\xb2\\xbb\\xbd\\xf6', b'\\xb2\\xbb\\xbe\\xd0', b'\\xb2\\xbb\\xc2\\xdb', b'\\xb2\\xbb\\xc5\\xc2', b'\\xb2\\xbb\\xc8\\xbb', b'\\xb2\\xbb\\xc8\\xe7', b'\\xb2\\xbb\\xcc\\xd8', b'\\xb2\\xbb\\xce\\xa9', b'\\xb2\\xbb\\xce\\xca', b'\\xb2\\xbb\\xd6\\xbb', b'\\xb3\\xaf', b'\\xb3\\xaf\\xd7\\xc5', b'\\xb3\\xc3', b'\\xb3\\xc3\\xd7\\xc5', b'\\xb3\\xcb', b'\\xb3\\xe5', b'\\xb3\\xfd', b'\\xb3\\xfd\\xb4\\xcb\\xd6\\xae\\xcd\\xe2', b'\\xb3\\xfd\\xb7\\xc7', b'\\xb3\\xfd\\xc1\\xcb', b'\\xb4\\xcb', b'\\xb4\\xcb\\xbc\\xe4', b'\\xb4\\xcb\\xcd\\xe2', b'\\xb4\\xd3', b'\\xb4\\xd3\\xb6\\xf8', b'\\xb4\\xf2', b'\\xb4\\xfd', b'\\xb5\\xab', b'\\xb5\\xab\\xca\\xc7', b'\\xb5\\xb1', b'\\xb5\\xb1\\xd7\\xc5', b'\\xb5\\xbd', b'\\xb5\\xc3', b'\\xb5\\xc4', b'\\xb5\\xc4\\xbb\\xb0', b'\\xb5\\xc8', b'\\xb5\\xc8\\xb5\\xc8', b'\\xb5\\xd8', b'\\xb5\\xda', b'\\xb6\\xa3\\xdf\\xcb', b'\\xb6\\xd4', b'\\xb6\\xd4\\xd3\\xda', b'\\xb6\\xe0', b'\\xb6\\xe0\\xc9\\xd9', b'\\xb6\\xf8', b'\\xb6\\xf8\\xbf\\xf6', b'\\xb6\\xf8\\xc7\\xd2', b'\\xb6\\xf8\\xca\\xc7', b'\\xb6\\xf8\\xcd\\xe2', b'\\xb6\\xf8\\xd1\\xd4', b'\\xb6\\xf8\\xd2\\xd1', b'\\xb6\\xfb\\xba\\xf3', b'\\xb7\\xb4\\xb9\\xfd\\xc0\\xb4', b'\\xb7\\xb4\\xb9\\xfd\\xc0\\xb4\\xcb\\xb5', b'\\xb7\\xb4\\xd6\\xae', b'\\xb7\\xc7\\xb5\\xab', b'\\xb7\\xc7\\xcd\\xbd', b'\\xb7\\xf1\\xd4\\xf2', b'\\xb8\\xc2', b'\\xb8\\xc2\\xb5\\xc7', b'\\xb8\\xc3', b'\\xb8\\xcf', b'\\xb8\\xf6', b'\\xb8\\xf7', b'\\xb8\\xf7\\xb8\\xf6', b'\\xb8\\xf7\\xce\\xbb', b'\\xb8\\xf7\\xd6\\xd6', b'\\xb8\\xf7\\xd7\\xd4', b'\\xb8\\xf8', b'\\xb8\\xf9\\xbe\\xdd', b'\\xb8\\xfa', b'\\xb9\\xca', b'\\xb9\\xca\\xb4\\xcb', b'\\xb9\\xcc\\xc8\\xbb', b'\\xb9\\xd8\\xd3\\xda', b'\\xb9\\xdc', b'\\xb9\\xe9', b'\\xb9\\xfb\\xc8\\xbb', b'\\xb9\\xfb\\xd5\\xe6', b'\\xb9\\xfd', b'\\xb9\\xfe', b'\\xb9\\xfe\\xb9\\xfe', b'\\xba\\xc7', b'\\xba\\xcd', b'\\xba\\xce', b'\\xba\\xce\\xb4\\xa6', b'\\xba\\xce\\xbf\\xf6', b'\\xba\\xce\\xca\\xb1', b'\\xba\\xd9', b'\\xba\\xdf', b'\\xba\\xdf\\xe0\\xa1', b'\\xba\\xf4\\xdf\\xea', b'\\xba\\xf5', b'\\xbb\\xa9', b'\\xbb\\xb9\\xca\\xc7', b'\\xbb\\xb9\\xd3\\xd0', b'\\xbb\\xbb\\xbe\\xe4\\xbb\\xb0\\xcb\\xb5', b'\\xbb\\xbb\\xd1\\xd4\\xd6\\xae', b'\\xbb\\xf2', b'\\xbb\\xf2\\xca\\xc7', b'\\xbb\\xf2\\xd5\\xdf', b'\\xbc\\xab\\xc1\\xcb', b'\\xbc\\xb0', b'\\xbc\\xb0\\xc6\\xe4', b'\\xbc\\xb0\\xd6\\xc1', b'\\xbc\\xb4', b'\\xbc\\xb4\\xb1\\xe3', b'\\xbc\\xb4\\xbb\\xf2', b'\\xbc\\xb4\\xc1\\xee', b'\\xbc\\xb4\\xc8\\xf4', b'\\xbc\\xb4\\xca\\xb9', b'\\xbc\\xb8', b'\\xbc\\xb8\\xca\\xb1', b'\\xbc\\xba', b'\\xbc\\xc8', b'\\xbc\\xc8\\xc8\\xbb', b'\\xbc\\xc8\\xca\\xc7', b'\\xbc\\xcc\\xb6\\xf8', b'\\xbc\\xd3\\xd6\\xae', b'\\xbc\\xd9\\xc8\\xe7', b'\\xbc\\xd9\\xc8\\xf4', b'\\xbc\\xd9\\xca\\xb9', b'\\xbc\\xf8\\xd3\\xda', b'\\xbd\\xab', b'\\xbd\\xcf', b'\\xbd\\xcf\\xd6\\xae', b'\\xbd\\xd0', b'\\xbd\\xd3\\xd7\\xc5', b'\\xbd\\xe1\\xb9\\xfb', b'\\xbd\\xe8', b'\\xbd\\xf4\\xbd\\xd3\\xd7\\xc5', b'\\xbd\\xf8\\xb6\\xf8', b'\\xbe\\xa1', b'\\xbe\\xa1\\xb9\\xdc', b'\\xbe\\xad', b'\\xbe\\xad\\xb9\\xfd', b'\\xbe\\xcd', b'\\xbe\\xcd\\xca\\xc7', b'\\xbe\\xcd\\xca\\xc7\\xcb\\xb5', b'\\xbe\\xdd', b'\\xbe\\xdf\\xcc\\xe5\\xb5\\xd8\\xcb\\xb5', b'\\xbe\\xdf\\xcc\\xe5\\xcb\\xb5\\xc0\\xb4', b'\\xbf\\xaa\\xca\\xbc', b'\\xbf\\xaa\\xcd\\xe2', b'\\xbf\\xbf', b'\\xbf\\xc8', b'\\xbf\\xc9', b'\\xbf\\xc9\\xbc\\xfb', b'\\xbf\\xc9\\xca\\xc7', b'\\xbf\\xc9\\xd2\\xd4', b'\\xbf\\xf6\\xc7\\xd2', b'\\xc0\\xb2', b'\\xc0\\xb4', b'\\xc0\\xb4\\xd7\\xc5', b'\\xc0\\xeb', b'\\xc0\\xfd\\xc8\\xe7', b'\\xc1\\xa8', b'\\xc1\\xac', b'\\xc1\\xac\\xcd\\xac', b'\\xc1\\xbd\\xd5\\xdf', b'\\xc1\\xcb', b'\\xc1\\xd9', b'\\xc1\\xed', b'\\xc1\\xed\\xcd\\xe2', b'\\xc1\\xed\\xd2\\xbb\\xb7\\xbd\\xc3\\xe6', b'\\xc2\\xdb', b'\\xc2\\xef', b'\\xc2\\xf0', b'\\xc2\\xfd\\xcb\\xb5', b'\\xc2\\xfe\\xcb\\xb5', b'\\xc3\\xb0', b'\\xc3\\xb4', b'\\xc3\\xbf', b'\\xc3\\xbf\\xb5\\xb1', b'\\xc3\\xc7', b'\\xc4\\xaa\\xc8\\xf4', b'\\xc4\\xb3', b'\\xc4\\xb3\\xb8\\xf6', b'\\xc4\\xb3\\xd0\\xa9', b'\\xc4\\xc3', b'\\xc4\\xc4', b'\\xc4\\xc4\\xb1\\xdf', b'\\xc4\\xc4\\xb6\\xf9', b'\\xc4\\xc4\\xb8\\xf6', b'\\xc4\\xc4\\xc0\\xef', b'\\xc4\\xc4\\xc4\\xea', b'\\xc4\\xc4\\xc5\\xc2', b'\\xc4\\xc4\\xcc\\xec', b'\\xc4\\xc4\\xd0\\xa9', b'\\xc4\\xc4\\xd1\\xf9', b'\\xc4\\xc7', b'\\xc4\\xc7\\xb1\\xdf', b'\\xc4\\xc7\\xb6\\xf9', b'\\xc4\\xc7\\xb8\\xf6', b'\\xc4\\xc7\\xbb\\xe1\\xb6\\xf9', b'\\xc4\\xc7\\xc0\\xef', b'\\xc4\\xc7\\xc3\\xb4', b'\\xc4\\xc7\\xc3\\xb4\\xd0\\xa9', b'\\xc4\\xc7\\xc3\\xb4\\xd1\\xf9', b'\\xc4\\xc7\\xca\\xb1', b'\\xc4\\xc7\\xd0\\xa9', b'\\xc4\\xc7\\xd1\\xf9', b'\\xc4\\xcb', b'\\xc4\\xcb\\xd6\\xc1', b'\\xc4\\xd8', b'\\xc4\\xdc', b'\\xc4\\xe3', b'\\xc4\\xe3\\xc3\\xc7', b'\\xc4\\xfa', b'\\xc4\\xfe', b'\\xc4\\xfe\\xbf\\xc9', b'\\xc4\\xfe\\xbf\\xcf', b'\\xc4\\xfe\\xd4\\xb8', b'\\xc5\\xb6', b'\\xc5\\xbb', b'\\xc5\\xbe\\xb4\\xef', b'\\xc5\\xd4\\xc8\\xcb', b'\\xc5\\xde', b'\\xc6\\xbe', b'\\xc6\\xbe\\xbd\\xe8', b'\\xc6\\xe4', b'\\xc6\\xe4\\xb4\\xce', b'\\xc6\\xe4\\xb6\\xfe', b'\\xc6\\xe4\\xcb\\xfb', b'\\xc6\\xe4\\xcb\\xfc', b'\\xc6\\xe4\\xd2\\xbb', b'\\xc6\\xe4\\xd3\\xe0', b'\\xc6\\xe4\\xd6\\xd0', b'\\xc6\\xf0', b'\\xc6\\xf0\\xbc\\xfb', b'\\xc6\\xf1\\xb5\\xab', b'\\xc7\\xa1\\xc7\\xa1\\xcf\\xe0\\xb7\\xb4', b'\\xc7\\xb0\\xba\\xf3', b'\\xc7\\xb0\\xd5\\xdf', b'\\xc7\\xd2', b'\\xc8\\xbb\\xb6\\xf8', b'\\xc8\\xbb\\xba\\xf3', b'\\xc8\\xbb\\xd4\\xf2', b'\\xc8\\xc3', b'\\xc8\\xcb\\xbc\\xd2', b'\\xc8\\xce', b'\\xc8\\xce\\xba\\xce', b'\\xc8\\xce\\xc6\\xbe', b'\\xc8\\xe7', b'\\xc8\\xe7\\xb4\\xcb', b'\\xc8\\xe7\\xb9\\xfb', b'\\xc8\\xe7\\xba\\xce', b'\\xc8\\xe7\\xc6\\xe4', b'\\xc8\\xe7\\xc8\\xf4', b'\\xc8\\xe7\\xc9\\xcf\\xcb\\xf9\\xca\\xf6', b'\\xc8\\xf4', b'\\xc8\\xf4\\xb7\\xc7', b'\\xc8\\xf4\\xca\\xc7', b'\\xc9\\xb6', b'\\xc9\\xcf\\xcf\\xc2', b'\\xc9\\xd0\\xc7\\xd2', b'\\xc9\\xe8\\xc8\\xf4', b'\\xc9\\xe8\\xca\\xb9', b'\\xc9\\xf5\\xb6\\xf8', b'\\xc9\\xf5\\xc3\\xb4', b'\\xc9\\xf5\\xd6\\xc1', b'\\xca\\xa1\\xb5\\xc3', b'\\xca\\xb1\\xba\\xf2', b'\\xca\\xb2\\xc3\\xb4', b'\\xca\\xb2\\xc3\\xb4\\xd1\\xf9', b'\\xca\\xb9\\xb5\\xc3', b'\\xca\\xc7', b'\\xca\\xc7\\xb5\\xc4', b'\\xca\\xd7\\xcf\\xc8', b'\\xcb\\xad', b'\\xcb\\xad\\xd6\\xaa', b'\\xcb\\xb3', b'\\xcb\\xb3\\xd7\\xc5', b'\\xcb\\xc6\\xb5\\xc4', b'\\xcb\\xe4', b'\\xcb\\xe4\\xc8\\xbb', b'\\xcb\\xe4\\xcb\\xb5', b'\\xcb\\xe4\\xd4\\xf2', b'\\xcb\\xe6', b'\\xcb\\xe6\\xd7\\xc5', b'\\xcb\\xf9', b'\\xcb\\xf9\\xd2\\xd4', b'\\xcb\\xfb', b'\\xcb\\xfb\\xc3\\xc7', b'\\xcb\\xfb\\xc8\\xcb', b'\\xcb\\xfc', b'\\xcb\\xfc\\xc3\\xc7', b'\\xcb\\xfd', b'\\xcb\\xfd\\xc3\\xc7', b'\\xcc\\xc8', b'\\xcc\\xc8\\xbb\\xf2', b'\\xcc\\xc8\\xc8\\xbb', b'\\xcc\\xc8\\xc8\\xf4', b'\\xcc\\xc8\\xca\\xb9', b'\\xcc\\xda', b'\\xcc\\xe6', b'\\xcd\\xa8\\xb9\\xfd', b'\\xcd\\xac', b'\\xcd\\xac\\xca\\xb1', b'\\xcd\\xdb', b'\\xcd\\xf2\\xd2\\xbb', b'\\xcd\\xf9', b'\\xcd\\xfb', b'\\xce\\xaa', b'\\xce\\xaa\\xba\\xce', b'\\xce\\xaa\\xc1\\xcb', b'\\xce\\xaa\\xca\\xb2\\xc3\\xb4', b'\\xce\\xaa\\xd7\\xc5', b'\\xce\\xb9', b'\\xce\\xcb\\xce\\xcb', b'\\xce\\xd2', b'\\xce\\xd2\\xc3\\xc7', b'\\xce\\xd8', b'\\xce\\xd8\\xba\\xf4', b'\\xce\\xda\\xba\\xf5', b'\\xce\\xde\\xc2\\xdb', b'\\xce\\xde\\xc4\\xfe', b'\\xce\\xe3\\xc4\\xfe', b'\\xce\\xfb', b'\\xcf\\xc5', b'\\xcf\\xe0\\xb6\\xd4\\xb6\\xf8\\xd1\\xd4', b'\\xcf\\xf1', b'\\xcf\\xf2', b'\\xcf\\xf2\\xd7\\xc5', b'\\xd0\\xea', b'\\xd1\\xbd', b'\\xd1\\xc9', b'\\xd1\\xd8', b'\\xd1\\xd8\\xd7\\xc5', b'\\xd2\\xaa', b'\\xd2\\xaa\\xb2\\xbb', b'\\xd2\\xaa\\xb2\\xbb\\xc8\\xbb', b'\\xd2\\xaa\\xb2\\xbb\\xca\\xc7', b'\\xd2\\xaa\\xc3\\xb4', b'\\xd2\\xaa\\xca\\xc7', b'\\xd2\\xb2', b'\\xd2\\xb2\\xb0\\xd5', b'\\xd2\\xb2\\xba\\xc3', b'\\xd2\\xbb', b'\\xd2\\xbb\\xb0\\xe3', b'\\xd2\\xbb\\xb5\\xa9', b'\\xd2\\xbb\\xb7\\xbd\\xc3\\xe6', b'\\xd2\\xbb\\xc0\\xb4', b'\\xd2\\xbb\\xc7\\xd0', b'\\xd2\\xbb\\xd1\\xf9', b'\\xd2\\xbb\\xd4\\xf2', b'\\xd2\\xc0', b'\\xd2\\xc0\\xd5\\xd5', b'\\xd2\\xd3', b'\\xd2\\xd4', b'\\xd2\\xd4\\xb1\\xe3', b'\\xd2\\xd4\\xbc\\xb0', b'\\xd2\\xd4\\xc3\\xe2', b'\\xd2\\xd4\\xd6\\xc1', b'\\xd2\\xd4\\xd6\\xc1\\xd3\\xda', b'\\xd2\\xd4\\xd6\\xc2', b'\\xd2\\xd6\\xbb\\xf2', b'\\xd2\\xf2', b'\\xd2\\xf2\\xb4\\xcb', b'\\xd2\\xf2\\xb6\\xf8', b'\\xd2\\xf2\\xce\\xaa', b'\\xd3\\xb4', b'\\xd3\\xc3', b'\\xd3\\xc9', b'\\xd3\\xc9\\xb4\\xcb\\xbf\\xc9\\xbc\\xfb', b'\\xd3\\xc9\\xd3\\xda', b'\\xd3\\xd0', b'\\xd3\\xd0\\xb5\\xc4', b'\\xd3\\xd0\\xb9\\xd8', b'\\xd3\\xd0\\xd0\\xa9', b'\\xd3\\xd6', b'\\xd3\\xda', b'\\xd3\\xda\\xca\\xc7', b'\\xd3\\xda\\xca\\xc7\\xba\\xf5', b'\\xd3\\xeb', b'\\xd3\\xeb\\xb4\\xcb\\xcd\\xac\\xca\\xb1', b'\\xd3\\xeb\\xb7\\xf1', b'\\xd3\\xeb\\xc6\\xe4', b'\\xd4\\xbd\\xca\\xc7', b'\\xd4\\xc6\\xd4\\xc6', b'\\xd4\\xd5', b'\\xd4\\xd9\\xcb\\xb5', b'\\xd4\\xd9\\xd5\\xdf', b'\\xd4\\xda', b'\\xd4\\xda\\xcf\\xc2', b'\\xd4\\xdb', b'\\xd4\\xdb\\xc3\\xc7', b'\\xd4\\xf2', b'\\xd4\\xf5', b'\\xd4\\xf5\\xc3\\xb4', b'\\xd4\\xf5\\xc3\\xb4\\xb0\\xec', b'\\xd4\\xf5\\xc3\\xb4\\xd1\\xf9', b'\\xd4\\xf5\\xd1\\xf9', b'\\xd5\\xa6', b'\\xd5\\xd5', b'\\xd5\\xd5\\xd7\\xc5', b'\\xd5\\xdf', b'\\xd5\\xe2', b'\\xd5\\xe2\\xb1\\xdf', b'\\xd5\\xe2\\xb6\\xf9', b'\\xd5\\xe2\\xb8\\xf6', b'\\xd5\\xe2\\xbb\\xe1\\xb6\\xf9', b'\\xd5\\xe2\\xbe\\xcd\\xca\\xc7\\xcb\\xb5', b'\\xd5\\xe2\\xc0\\xef', b'\\xd5\\xe2\\xc3\\xb4', b'\\xd5\\xe2\\xc3\\xb4\\xb5\\xe3\\xb6\\xf9', b'\\xd5\\xe2\\xc3\\xb4\\xd0\\xa9', b'\\xd5\\xe2\\xc3\\xb4\\xd1\\xf9', b'\\xd5\\xe2\\xca\\xb1', b'\\xd5\\xe2\\xd0\\xa9', b'\\xd5\\xe2\\xd1\\xf9', b'\\xd5\\xfd\\xc8\\xe7', b'\\xd6\\xa8', b'\\xd6\\xae', b'\\xd6\\xae\\xc0\\xe0', b'\\xd6\\xae\\xcb\\xf9\\xd2\\xd4', b'\\xd6\\xae\\xd2\\xbb', b'\\xd6\\xbb\\xca\\xc7', b'\\xd6\\xbb\\xcf\\xde', b'\\xd6\\xbb\\xd2\\xaa', b'\\xd6\\xbb\\xd3\\xd0', b'\\xd6\\xc1', b'\\xd6\\xc1\\xd3\\xda', b'\\xd6\\xee\\xce\\xbb', b'\\xd7\\xc5', b'\\xd7\\xc5\\xc4\\xd8', b'\\xd7\\xd4', b'\\xd7\\xd4\\xb4\\xd3', b'\\xd7\\xd4\\xb8\\xf6\\xb6\\xf9', b'\\xd7\\xd4\\xb8\\xf7\\xb6\\xf9', b'\\xd7\\xd4\\xbc\\xba', b'\\xd7\\xd4\\xbc\\xd2', b'\\xd7\\xd4\\xc9\\xed', b'\\xd7\\xdb\\xc9\\xcf\\xcb\\xf9\\xca\\xf6', b'\\xd7\\xdc\\xb5\\xc4\\xc0\\xb4\\xbf\\xb4', b'\\xd7\\xdc\\xb5\\xc4\\xc0\\xb4\\xcb\\xb5', b'\\xd7\\xdc\\xb5\\xc4\\xcb\\xb5\\xc0\\xb4', b'\\xd7\\xdc\\xb6\\xf8\\xd1\\xd4\\xd6\\xae', b'\\xd7\\xdc\\xd6\\xae', b'\\xd7\\xdd', b'\\xd7\\xdd\\xc1\\xee', b'\\xd7\\xdd\\xc8\\xbb', b'\\xd7\\xdd\\xca\\xb9', b'\\xd7\\xf1\\xd5\\xd5', b'\\xd7\\xf7\\xce\\xaa', b'\\xd9\\xe2', b'\\xdf\\xc0', b'\\xdf\\xc2', b'\\xdf\\xcb', b'\\xdf\\xd7', b'\\xdf\\xf6', b'\\xdf\\xfd', b'\\xe0\\xb8\\xe0\\xa1', b'\\xe0\\xc0', b'\\xe0\\xc5', b'\\xe0\\xc8', b'~', b'!', b'.', b':', b'\"', b\"'\", b'(', b')', b'*', b'A', b'\\xb0\\xd7', b'\\xc9\\xe7\\xbb\\xe1\\xd6\\xf7\\xd2\\xe5', b'--', b'..', b'>>', b' [', b' ]', b'', b'<', b'>', b'/', b'\\\\', b'|', b'-', b'_', b'+', b'=', b'&', b'^', b'%', b'#', b'@', b'`', b';', b'$', b'\\xa3\\xa8', b'\\xa3\\xa9', b'\\xa1\\xaa\\xa1\\xaa', b'\\xa1\\xaa', b'\\xa3\\xa4', b'\\xa1\\xa4', b'...', b'\\xa1\\xae', b'\\xa1\\xaf', b'\\xa1\\xb5', b'\\xa1\\xb4', b'\\xa1\\xad', b'\\xa1\\xa1', b'0', b'1', b'2', b'3', b'4', b'5', b'6', b'7', b'8', b'9', b'\\xa3\\xb0', b'\\xa3\\xb1', b'\\xa3\\xb2', b'\\xa3\\xb3', b'\\xa3\\xb4', b'\\xa3\\xb5', b'\\xa3\\xb6', b'\\xa3\\xb7', b'\\xa3\\xb8', b'\\xa3\\xb9', b'\\xb6\\xfe', b'\\xc8\\xfd', b'\\xcb\\xc4', b'\\xce\\xe5', b'\\xc1\\xf9', b'\\xc6\\xdf', b'\\xb0\\xcb', b'\\xbe\\xc5', b'\\xc1\\xe3', b'\\xa3\\xbe', b'\\xa3\\xbc', b'\\xa3\\xc0', b'\\xa3\\xa3', b'\\xa1\\xe7', b'\\xa3\\xa5', b'\\xa6\\xe4', b'\\xa3\\xa6', b'\\xa3\\xaa', b'\\xa3\\xab', b'\\xa1\\xab', b'\\xa3\\xfc', b'\\xa3\\xdb', b'\\xa3\\xdd', b'\\xa3\\xfb', b'\\xa3\\xfd', b'\\xb0\\xa1\\xb9\\xfe', b'\\xb0\\xa1\\xd1\\xbd', b'\\xb0\\xa1\\xd3\\xb4', b'\\xb0\\xa4\\xb4\\xce', b'\\xb0\\xa4\\xb8\\xf6', b'\\xb0\\xa4\\xbc\\xd2\\xb0\\xa4\\xbb\\xa7', b'\\xb0\\xa4\\xc3\\xc5\\xb0\\xa4\\xbb\\xa7', b'\\xb0\\xa4\\xc3\\xc5\\xd6\\xf0\\xbb\\xa7', b'\\xb0\\xa4\\xd7\\xc5', b'\\xb0\\xb4\\xc0\\xed', b'\\xb0\\xb4\\xc6\\xda', b'\\xb0\\xb4\\xca\\xb1', b'\\xb0\\xb4\\xcb\\xb5', b'\\xb0\\xb5\\xb5\\xd8\\xc0\\xef', b'\\xb0\\xb5\\xd6\\xd0', b'\\xb0\\xb5\\xd7\\xd4', b'\\xb0\\xba\\xc8\\xbb', b'\\xb0\\xcb\\xb3\\xc9', b'\\xb0\\xd7\\xb0\\xd7', b'\\xb0\\xeb', b'\\xb0\\xf0', b'\\xb1\\xa3\\xb9\\xdc', b'\\xb1\\xa3\\xcf\\xd5', b'\\xb1\\xa5', b'\\xb1\\xb3\\xb5\\xd8\\xc0\\xef', b'\\xb1\\xb3\\xbf\\xbf\\xb1\\xb3', b'\\xb1\\xb6\\xb8\\xd0', b'\\xb1\\xb6\\xbc\\xd3', b'\\xb1\\xbe\\xc8\\xcb', b'\\xb1\\xbe\\xc9\\xed', b'\\xb1\\xc2', b'\\xb1\\xc8\\xc6\\xf0', b'\\xb1\\xc8\\xc8\\xe7\\xcb\\xb5', b'\\xb1\\xc8\\xd5\\xd5', b'\\xb1\\xcf\\xbe\\xb9', b'\\xb1\\xd8', b'\\xb1\\xd8\\xb6\\xa8', b'\\xb1\\xd8\\xbd\\xab', b'\\xb1\\xd8\\xd0\\xeb', b'\\xb1\\xe3', b'\\xb1\\xf0\\xc8\\xcb', b'\\xb2\\xa2\\xb7\\xc7', b'\\xb2\\xa2\\xbc\\xe7', b'\\xb2\\xa2\\xc3\\xbb', b'\\xb2\\xa2\\xc3\\xbb\\xd3\\xd0', b'\\xb2\\xa2\\xc5\\xc5', b'\\xb2\\xa2\\xce\\xde', b'\\xb2\\xaa\\xc8\\xbb', b'\\xb2\\xbb', b'\\xb2\\xbb\\xb1\\xd8', b'\\xb2\\xbb\\xb3\\xa3', b'\\xb2\\xbb\\xb4\\xf3', b'\\xb2\\xbb\\xb5\\xab...\\xb6\\xf8\\xc7\\xd2', b'\\xb2\\xbb\\xb5\\xc3', b'\\xb2\\xbb\\xb5\\xc3\\xb2\\xbb', b'\\xb2\\xbb\\xb5\\xc3\\xc1\\xcb', b'\\xb2\\xbb\\xb5\\xc3\\xd2\\xd1', b'\\xb2\\xbb\\xb5\\xfc', b'\\xb2\\xbb\\xb6\\xa8', b'\\xb2\\xbb\\xb6\\xd4', b'\\xb2\\xbb\\xb7\\xc1', b'\\xb2\\xbb\\xb9\\xdc\\xd4\\xf5\\xd1\\xf9', b'\\xb2\\xbb\\xbb\\xe1', b'\\xb2\\xbb\\xbd\\xf6...\\xb6\\xf8\\xc7\\xd2', b'\\xb2\\xbb\\xbd\\xf6\\xbd\\xf6', b'\\xb2\\xbb\\xbd\\xf6\\xbd\\xf6\\xca\\xc7', b'\\xb2\\xbb\\xbe\\xad\\xd2\\xe2', b'\\xb2\\xbb\\xbf\\xc9\\xbf\\xaa\\xbd\\xbb', b'\\xb2\\xbb\\xbf\\xc9\\xbf\\xb9\\xbe\\xdc', b'\\xb2\\xbb\\xc1\\xa6', b'\\xb2\\xbb\\xc1\\xcb', b'\\xb2\\xbb\\xc1\\xcf', b'\\xb2\\xbb\\xc2\\xfa', b'\\xb2\\xbb\\xc3\\xe2', b'\\xb2\\xbb\\xc4\\xdc\\xb2\\xbb', b'\\xb2\\xbb\\xc6\\xf0', b'\\xb2\\xbb\\xc7\\xc9', b'\\xb2\\xbb\\xc8\\xbb\\xb5\\xc4\\xbb\\xb0', b'\\xb2\\xbb\\xc8\\xd5', b'\\xb2\\xbb\\xc9\\xd9', b'\\xb2\\xbb\\xca\\xa4', b'\\xb2\\xbb\\xca\\xb1', b'\\xb2\\xbb\\xca\\xc7', b'\\xb2\\xbb\\xcd\\xac', b'\\xb2\\xbb\\xc4\\xdc', b'\\xb2\\xbb\\xd2\\xaa', b'\\xb2\\xbb\\xcd\\xe2', b'\\xb2\\xbb\\xcd\\xe2\\xba\\xf5', b'\\xb2\\xbb\\xcf\\xc2', b'\\xb2\\xbb\\xcf\\xde', b'\\xb2\\xbb\\xcf\\xfb', b'\\xb2\\xbb\\xd2\\xd1', b'\\xb2\\xbb\\xd2\\xe0\\xc0\\xd6\\xba\\xf5', b'\\xb2\\xbb\\xd3\\xc9\\xb5\\xc3', b'\\xb2\\xbb\\xd4\\xd9', b'\\xb2\\xbb\\xd4\\xf1\\xca\\xd6\\xb6\\xce', b'\\xb2\\xbb\\xd4\\xf5\\xc3\\xb4', b'\\xb2\\xbb\\xd4\\xf8', b'\\xb2\\xbb\\xd6\\xaa\\xb2\\xbb\\xbe\\xf5', b'\\xb2\\xbb\\xd6\\xb9', b'\\xb2\\xbb\\xd6\\xb9\\xd2\\xbb\\xb4\\xce', b'\\xb2\\xbb\\xd6\\xc1\\xd3\\xda', b'\\xb2\\xc5', b'\\xb2\\xc5\\xc4\\xdc', b'\\xb2\\xdf\\xc2\\xd4\\xb5\\xd8', b'\\xb2\\xee\\xb2\\xbb\\xb6\\xe0', b'\\xb2\\xee\\xd2\\xbb\\xb5\\xe3', b'\\xb3\\xa3', b'\\xb3\\xa3\\xb3\\xa3', b'\\xb3\\xa3\\xd1\\xd4\\xb5\\xc0', b'\\xb3\\xa3\\xd1\\xd4\\xcb\\xb5', b'\\xb3\\xa3\\xd1\\xd4\\xcb\\xb5\\xb5\\xc3\\xba\\xc3', b'\\xb3\\xa4\\xb4\\xcb\\xcf\\xc2\\xc8\\xa5', b'\\xb3\\xa4\\xbb\\xb0\\xb6\\xcc\\xcb\\xb5', b'\\xb3\\xa4\\xc6\\xda\\xd2\\xd4\\xc0\\xb4', b'\\xb3\\xa4\\xcf\\xdf', b'\\xb3\\xa8\\xbf\\xaa\\xb6\\xf9', b'\\xb3\\xb9\\xd2\\xb9', b'\\xb3\\xc2\\xc4\\xea', b'\\xb3\\xc3\\xb1\\xe3', b'\\xb3\\xc3\\xbb\\xfa', b'\\xb3\\xc3\\xc8\\xc8', b'\\xb3\\xc3\\xca\\xc6', b'\\xb3\\xc3\\xd4\\xe7', b'\\xb3\\xc9\\xc4\\xea', b'\\xb3\\xc9\\xc4\\xea\\xc0\\xdb\\xd4\\xc2', b'\\xb3\\xc9\\xd0\\xc4', b'\\xb3\\xcb\\xbb\\xfa', b'\\xb3\\xcb\\xca\\xa4', b'\\xb3\\xcb\\xca\\xc6', b'\\xb3\\xcb\\xcf\\xb6', b'\\xb3\\xcb\\xd0\\xe9', b'\\xb3\\xcf\\xc8\\xbb', b'\\xb3\\xd9\\xd4\\xe7', b'\\xb3\\xe4\\xb7\\xd6', b'\\xb3\\xe4\\xc6\\xe4\\xbc\\xab', b'\\xb3\\xe4\\xc6\\xe4\\xc1\\xbf', b'\\xb3\\xe9\\xc0\\xe4\\xd7\\xd3', b'\\xb3\\xf4', b'\\xb3\\xf5', b'\\xb3\\xf6', b'\\xb3\\xf6\\xc0\\xb4', b'\\xb3\\xf6\\xc8\\xa5', b'\\xb3\\xfd\\xb4\\xcb', b'\\xb3\\xfd\\xb4\\xcb\\xb6\\xf8\\xcd\\xe2', b'\\xb3\\xfd\\xb4\\xcb\\xd2\\xd4\\xcd\\xe2', b'\\xb3\\xfd\\xbf\\xaa', b'\\xb3\\xfd\\xc8\\xa5', b'\\xb3\\xfd\\xc8\\xb4', b'\\xb3\\xfd\\xcd\\xe2', b'\\xb4\\xa6\\xb4\\xa6', b'\\xb4\\xa8\\xc1\\xf7\\xb2\\xbb\\xcf\\xa2', b'\\xb4\\xab', b'\\xb4\\xab\\xcb\\xb5', b'\\xb4\\xab\\xce\\xc5', b'\\xb4\\xae\\xd0\\xd0', b'\\xb4\\xbf', b'\\xb4\\xbf\\xb4\\xe2', b'\\xb4\\xcb\\xba\\xf3', b'\\xb4\\xcb\\xd6\\xd0', b'\\xb4\\xce\\xb5\\xda', b'\\xb4\\xd2\\xb4\\xd2', b'\\xb4\\xd3\\xb2\\xbb', b'\\xb4\\xd3\\xb4\\xcb', b'\\xb4\\xd3\\xb4\\xcb\\xd2\\xd4\\xba\\xf3', b'\\xb4\\xd3\\xb9\\xc5\\xb5\\xbd\\xbd\\xf1', b'\\xb4\\xd3\\xb9\\xc5\\xd6\\xc1\\xbd\\xf1', b'\\xb4\\xd3\\xbd\\xf1\\xd2\\xd4\\xba\\xf3', b'\\xb4\\xd3\\xbf\\xed', b'\\xb4\\xd3\\xc0\\xb4', b'\\xb4\\xd3\\xc7\\xe1', b'\\xb4\\xd3\\xcb\\xd9', b'\\xb4\\xd3\\xcd\\xb7', b'\\xb4\\xd3\\xce\\xb4', b'\\xb4\\xd3\\xce\\xde\\xb5\\xbd\\xd3\\xd0', b'\\xb4\\xd3\\xd0\\xa1', b'\\xb4\\xd3\\xd0\\xc2', b'\\xb4\\xd3\\xd1\\xcf', b'\\xb4\\xd3\\xd3\\xc5', b'\\xb4\\xd3\\xd4\\xe7\\xb5\\xbd\\xcd\\xed', b'\\xb4\\xd3\\xd6\\xd0', b'\\xb4\\xd3\\xd6\\xd8', b'\\xb4\\xd5\\xc7\\xc9', b'\\xb4\\xd6', b'\\xb4\\xe6\\xd0\\xc4', b'\\xb4\\xef\\xb5\\xa9', b'\\xb4\\xf2\\xb4\\xd3', b'\\xb4\\xf2\\xbf\\xaa\\xcc\\xec\\xb4\\xb0\\xcb\\xb5\\xc1\\xc1\\xbb\\xb0', b'\\xb4\\xf3', b'\\xb4\\xf3\\xb2\\xbb\\xc1\\xcb', b'\\xb4\\xf3\\xb4\\xf3', b'\\xb4\\xf3\\xb5\\xd6', b'\\xb4\\xf3\\xb6\\xbc', b'\\xb4\\xf3\\xb6\\xe0', b'\\xb4\\xf3\\xb7\\xb2', b'\\xb4\\xf3\\xb8\\xc5', b'\\xb4\\xf3\\xbc\\xd2', b'\\xb4\\xf3\\xbe\\xd9', b'\\xb4\\xf3\\xc2\\xd4', b'\\xb4\\xf3\\xc3\\xe6\\xb6\\xf9\\xc9\\xcf', b'\\xb4\\xf3\\xca\\xc2', b'\\xb4\\xf3\\xcc\\xe5', b'\\xb4\\xf3\\xcc\\xe5\\xc9\\xcf', b'\\xb4\\xf3\\xd4\\xbc', b'\\xb4\\xf3\\xd5\\xc5\\xc6\\xec\\xb9\\xc4', b'\\xb4\\xf3\\xd6\\xc2', b'\\xb4\\xf4\\xb4\\xf4\\xb5\\xd8', b'\\xb4\\xf8', b'\\xb4\\xf9', b'\\xb4\\xfd\\xb5\\xbd', b'\\xb5\\xa5', b'\\xb5\\xa5\\xb4\\xbf', b'\\xb5\\xa5\\xb5\\xa5', b'\\xb5\\xab\\xd4\\xb8', b'\\xb5\\xaf\\xd6\\xb8\\xd6\\xae\\xbc\\xe4', b'\\xb5\\xb1\\xb3\\xa1', b'\\xb5\\xb1\\xb6\\xf9', b'\\xb5\\xb1\\xbc\\xb4', b'\\xb5\\xb1\\xbf\\xda\\xb6\\xf9', b'\\xb5\\xb1\\xc8\\xbb', b'\\xb5\\xb1\\xcd\\xa5', b'\\xb5\\xb1\\xcd\\xb7', b'\\xb5\\xb1\\xcf\\xc2', b'\\xb5\\xb1\\xd5\\xe6', b'\\xb5\\xb1\\xd6\\xd0', b'\\xb5\\xb9\\xb2\\xbb\\xc8\\xe7', b'\\xb5\\xb9\\xb2\\xbb\\xc8\\xe7\\xcb\\xb5', b'\\xb5\\xb9\\xca\\xc7', b'\\xb5\\xbd\\xb4\\xa6', b'\\xb5\\xbd\\xb5\\xd7', b'\\xb5\\xbd\\xc1\\xcb\\xb6\\xf9', b'\\xb5\\xbd\\xc4\\xbf\\xc7\\xb0\\xce\\xaa\\xd6\\xb9', b'\\xb5\\xbd\\xcd\\xb7', b'\\xb5\\xbd\\xcd\\xb7\\xc0\\xb4', b'\\xb5\\xc3\\xc6\\xf0', b'\\xb5\\xc3\\xcc\\xec\\xb6\\xc0\\xba\\xf1', b'\\xb5\\xc4\\xc8\\xb7', b'\\xb5\\xc8\\xb5\\xbd', b'\\xb6\\xa3\\xb5\\xb1', b'\\xb6\\xa5\\xb6\\xe0', b'\\xb6\\xa8', b'\\xb6\\xaf\\xb2\\xbb\\xb6\\xaf', b'\\xb6\\xaf\\xe9\\xfc', b'\\xb6\\xb8\\xc8\\xbb', b'\\xb6\\xbc', b'\\xb6\\xc0', b'\\xb6\\xc0\\xd7\\xd4', b'\\xb6\\xcf\\xc8\\xbb', b'\\xb6\\xd9\\xca\\xb1', b'\\xb6\\xe0\\xb4\\xce', b'\\xb6\\xe0\\xb6\\xe0', b'\\xb6\\xe0\\xb6\\xe0\\xc9\\xd9\\xc9\\xd9', b'\\xb6\\xe0\\xb6\\xe0\\xd2\\xe6\\xc9\\xc6', b'\\xb6\\xe0\\xbf\\xf7', b'\\xb6\\xe0\\xc4\\xea\\xc0\\xb4', b'\\xb6\\xe0\\xc4\\xea\\xc7\\xb0', b'\\xb6\\xf8\\xba\\xf3', b'\\xb6\\xf8\\xc2\\xdb', b'\\xb6\\xf8\\xd3\\xd6', b'\\xb6\\xfb\\xb5\\xc8', b'\\xb6\\xfe\\xbb\\xb0\\xb2\\xbb\\xcb\\xb5', b'\\xb6\\xfe\\xbb\\xb0\\xc3\\xbb\\xcb\\xb5', b'\\xb7\\xb4\\xb5\\xb9', b'\\xb7\\xb4\\xb5\\xb9\\xca\\xc7', b'\\xb7\\xb4\\xb6\\xf8', b'\\xb7\\xb4\\xca\\xd6', b'\\xb7\\xb4\\xd6\\xae\\xd2\\xe0\\xc8\\xbb', b'\\xb7\\xb4\\xd6\\xae\\xd4\\xf2', b'\\xb7\\xbd', b'\\xb7\\xbd\\xb2\\xc5', b'\\xb7\\xbd\\xc4\\xdc', b'\\xb7\\xc5\\xc1\\xbf', b'\\xb7\\xc7\\xb3\\xa3', b'\\xb7\\xc7\\xb5\\xc3', b'\\xb7\\xd6\\xc6\\xda', b'\\xb7\\xd6\\xc6\\xda\\xb7\\xd6\\xc5\\xfa', b'\\xb7\\xd6\\xcd\\xb7', b'\\xb7\\xdc\\xd3\\xc2', b'\\xb7\\xdf\\xc8\\xbb', b'\\xb7\\xe7\\xd3\\xea\\xce\\xde\\xd7\\xe8', b'\\xb7\\xea', b'\\xb8\\xa5', b'\\xb8\\xa6', b'\\xb8\\xc2\\xb8\\xc2', b'\\xb8\\xc3\\xb5\\xb1', b'\\xb8\\xc5', b'\\xb8\\xcf\\xbf\\xec', b'\\xb8\\xcf\\xd4\\xe7\\xb2\\xbb\\xb8\\xcf\\xcd\\xed', b'\\xb8\\xd2', b'\\xb8\\xd2\\xc7\\xe9', b'\\xb8\\xd2\\xd3\\xda', b'\\xb8\\xd5', b'\\xb8\\xd5\\xb2\\xc5', b'\\xb8\\xd5\\xba\\xc3', b'\\xb8\\xd5\\xc7\\xc9', b'\\xb8\\xdf\\xb5\\xcd', b'\\xb8\\xf1\\xcd\\xe2', b'\\xb8\\xf4\\xc8\\xd5', b'\\xb8\\xf4\\xd2\\xb9', b'\\xb8\\xf6\\xc8\\xcb', b'\\xb8\\xf7\\xca\\xbd', b'\\xb8\\xfc', b'\\xb8\\xfc\\xbc\\xd3', b'\\xb8\\xfc\\xbd\\xf8\\xd2\\xbb\\xb2\\xbd', b'\\xb8\\xfc\\xce\\xaa', b'\\xb9\\xab\\xc8\\xbb', b'\\xb9\\xb2', b'\\xb9\\xb2\\xd7\\xdc', b'\\xb9\\xbb\\xc7\\xc6\\xb5\\xc4', b'\\xb9\\xc3\\xc7\\xd2', b'\\xb9\\xc5\\xc0\\xb4', b'\\xb9\\xca\\xb6\\xf8', b'\\xb9\\xca\\xd2\\xe2', b'\\xb9\\xcc', b'\\xb9\\xd6', b'\\xb9\\xd6\\xb2\\xbb\\xb5\\xc3', b'\\xb9\\xdf\\xb3\\xa3', b'\\xb9\\xe2', b'\\xb9\\xe2\\xca\\xc7', b'\\xb9\\xe9\\xb8\\xf9\\xb5\\xbd\\xb5\\xd7', b'\\xb9\\xe9\\xb8\\xf9\\xbd\\xe1\\xb5\\xd7', b'\\xb9\\xfd\\xd3\\xda', b'\\xba\\xc1\\xb2\\xbb', b'\\xba\\xc1\\xce\\xde', b'\\xba\\xc1\\xce\\xde\\xb1\\xa3\\xc1\\xf4\\xb5\\xd8', b'\\xba\\xc1\\xce\\xde\\xc0\\xfd\\xcd\\xe2', b'\\xba\\xc3\\xd4\\xda', b'\\xba\\xce\\xb1\\xd8', b'\\xba\\xce\\xb3\\xa2', b'\\xba\\xce\\xb7\\xc1', b'\\xba\\xce\\xbf\\xe0', b'\\xba\\xce\\xc0\\xd6\\xb6\\xf8\\xb2\\xbb\\xce\\xaa', b'\\xba\\xce\\xd0\\xeb', b'\\xba\\xce\\xd6\\xb9', b'\\xba\\xdc', b'\\xba\\xdc\\xb6\\xe0', b'\\xba\\xdc\\xc9\\xd9', b'\\xba\\xe4\\xc8\\xbb', b'\\xba\\xf3\\xc0\\xb4', b'\\xba\\xf4\\xc0\\xb2', b'\\xba\\xf6\\xb5\\xd8', b'\\xba\\xf6\\xc8\\xbb', b'\\xbb\\xa5', b'\\xbb\\xa5\\xcf\\xe0', b'\\xbb\\xa9\\xc0\\xb2', b'\\xbb\\xb0\\xcb\\xb5', b'\\xbb\\xb9', b'\\xbb\\xd0\\xc8\\xbb', b'\\xbb\\xe1', b'\\xbb\\xed\\xc8\\xbb', b'\\xbb\\xee', b'\\xbb\\xef\\xcd\\xac', b'\\xbb\\xf2\\xb6\\xe0\\xbb\\xf2\\xc9\\xd9', b'\\xbb\\xf2\\xd0\\xed', b'\\xbb\\xf9\\xb1\\xbe', b'\\xbb\\xf9\\xb1\\xbe\\xc9\\xcf', b'\\xbb\\xf9\\xd3\\xda', b'\\xbc\\xab', b'\\xbc\\xab\\xb4\\xf3', b'\\xbc\\xab\\xb6\\xc8', b'\\xbc\\xab\\xb6\\xcb', b'\\xbc\\xab\\xc1\\xa6', b'\\xbc\\xab\\xc6\\xe4', b'\\xbc\\xab\\xce\\xaa', b'\\xbc\\xb1\\xb4\\xd2\\xb4\\xd2', b'\\xbc\\xb4\\xbd\\xab', b'\\xbc\\xb4\\xbf\\xcc', b'\\xbc\\xb4\\xca\\xc7\\xcb\\xb5', b'\\xbc\\xb8\\xb6\\xc8', b'\\xbc\\xb8\\xb7\\xac', b'\\xbc\\xb8\\xba\\xf5', b'\\xbc\\xb8\\xbe\\xad', b'\\xbc\\xc8...\\xd3\\xd6', b'\\xbc\\xcc\\xd6\\xae', b'\\xbc\\xd3\\xc9\\xcf', b'\\xbc\\xd3\\xd2\\xd4', b'\\xbc\\xe4\\xbb\\xf2', b'\\xbc\\xf2\\xb6\\xf8\\xd1\\xd4\\xd6\\xae', b'\\xbc\\xf2\\xd1\\xd4\\xd6\\xae', b'\\xbc\\xf2\\xd6\\xb1', b'\\xbc\\xfb', b'\\xbd\\xab\\xb2\\xc5', b'\\xbd\\xab\\xbd\\xfc', b'\\xbd\\xab\\xd2\\xaa', b'\\xbd\\xbb\\xbf\\xda', b'\\xbd\\xcf\\xb1\\xc8', b'\\xbd\\xcf\\xce\\xaa', b'\\xbd\\xd3\\xc1\\xac\\xb2\\xbb\\xb6\\xcf', b'\\xbd\\xd3\\xcf\\xc2\\xc0\\xb4', b'\\xbd\\xd4\\xbf\\xc9', b'\\xbd\\xd8\\xc8\\xbb', b'\\xbd\\xd8\\xd6\\xc1', b'\\xbd\\xe5\\xd2\\xd4', b'\\xbd\\xe8\\xb4\\xcb', b'\\xbd\\xe8\\xd2\\xd4', b'\\xbd\\xec\\xca\\xb1', b'\\xbd\\xf6', b'\\xbd\\xf6\\xbd\\xf6', b'\\xbd\\xf7', b'\\xbd\\xf8\\xc0\\xb4', b'\\xbd\\xf8\\xc8\\xa5', b'\\xbd\\xfc', b'\\xbd\\xfc\\xbc\\xb8\\xc4\\xea\\xc0\\xb4', b'\\xbd\\xfc\\xc0\\xb4', b'\\xbd\\xfc\\xc4\\xea\\xc0\\xb4', b'\\xbe\\xa1\\xb9\\xdc\\xc8\\xe7\\xb4\\xcb', b'\\xbe\\xa1\\xbf\\xc9\\xc4\\xdc', b'\\xbe\\xa1\\xbf\\xec', b'\\xbe\\xa1\\xc1\\xbf', b'\\xbe\\xa1\\xc8\\xbb', b'\\xbe\\xa1\\xc8\\xe7\\xc8\\xcb\\xd2\\xe2', b'\\xbe\\xa1\\xd0\\xc4\\xbd\\xdf\\xc1\\xa6', b'\\xbe\\xa1\\xd0\\xc4\\xbe\\xa1\\xc1\\xa6', b'\\xbe\\xa1\\xd4\\xe7', b'\\xbe\\xab\\xb9\\xe2', b'\\xbe\\xad\\xb3\\xa3', b'\\xbe\\xb9', b'\\xbe\\xb9\\xc8\\xbb', b'\\xbe\\xbf\\xbe\\xb9', b'\\xbe\\xcd\\xb4\\xcb', b'\\xbe\\xcd\\xb5\\xd8', b'\\xbe\\xcd\\xcb\\xe3', b'\\xbe\\xd3\\xc8\\xbb', b'\\xbe\\xd6\\xcd\\xe2', b'\\xbe\\xd9\\xb7\\xb2', b'\\xbe\\xdd\\xb3\\xc6', b'\\xbe\\xdd\\xb4\\xcb', b'\\xbe\\xdd\\xca\\xb5', b'\\xbe\\xdd\\xcb\\xb5', b'\\xbe\\xdd\\xce\\xd2\\xcb\\xf9\\xd6\\xaa', b'\\xbe\\xdd\\xcf\\xa4', b'\\xbe\\xdf\\xcc\\xe5\\xc0\\xb4\\xcb\\xb5', b'\\xbe\\xf6\\xb2\\xbb', b'\\xbe\\xf6\\xb7\\xc7', b'\\xbe\\xf8', b'\\xbe\\xf8\\xb2\\xbb', b'\\xbe\\xf8\\xb6\\xa5', b'\\xbe\\xf8\\xb6\\xd4', b'\\xbe\\xf8\\xb7\\xc7', b'\\xbe\\xf9', b'\\xbf\\xa6', b'\\xbf\\xb4', b'\\xbf\\xb4\\xc0\\xb4', b'\\xbf\\xb4\\xc6\\xf0\\xc0\\xb4', b'\\xbf\\xb4\\xc9\\xcf\\xc8\\xa5', b'\\xbf\\xb4\\xd1\\xf9\\xd7\\xd3', b'\\xbf\\xc9\\xba\\xc3', b'\\xbf\\xc9\\xc4\\xdc', b'\\xbf\\xd6\\xc5\\xc2', b'\\xbf\\xec', b'\\xbf\\xec\\xd2\\xaa', b'\\xc0\\xb4\\xb2\\xbb\\xbc\\xb0', b'\\xc0\\xb4\\xb5\\xc3\\xbc\\xb0', b'\\xc0\\xb4\\xbd\\xb2', b'\\xc0\\xb4\\xbf\\xb4', b'\\xc0\\xb9\\xd1\\xfc', b'\\xc0\\xce\\xc0\\xce', b'\\xc0\\xcf', b'\\xc0\\xcf\\xb4\\xf3', b'\\xc0\\xcf\\xc0\\xcf\\xca\\xb5\\xca\\xb5', b'\\xc0\\xcf\\xca\\xc7', b'\\xc0\\xdb\\xb4\\xce', b'\\xc0\\xdb\\xc4\\xea', b'\\xc0\\xed\\xb5\\xb1', b'\\xc0\\xed\\xb8\\xc3', b'\\xc0\\xed\\xd3\\xa6', b'\\xc0\\xfa', b'\\xc1\\xa2', b'\\xc1\\xa2\\xb5\\xd8', b'\\xc1\\xa2\\xbf\\xcc', b'\\xc1\\xa2\\xc2\\xed', b'\\xc1\\xa2\\xca\\xb1', b'\\xc1\\xaa\\xf1\\xc7', b'\\xc1\\xac\\xc1\\xac', b'\\xc1\\xac\\xc8\\xd5', b'\\xc1\\xac\\xc8\\xd5\\xc0\\xb4', b'\\xc1\\xac\\xc9\\xf9', b'\\xc1\\xac\\xf1\\xc7', b'\\xc1\\xd9\\xb5\\xbd', b'\\xc1\\xed\\xb7\\xbd\\xc3\\xe6', b'\\xc1\\xed\\xd0\\xd0', b'\\xc1\\xed\\xd2\\xbb\\xb8\\xf6', b'\\xc2\\xb7\\xbe\\xad', b'\\xc2\\xc5', b'\\xc2\\xc5\\xb4\\xce', b'\\xc2\\xc5\\xb4\\xce\\xc8\\xfd\\xb7\\xac', b'\\xc2\\xc5\\xc2\\xc5', b'\\xc2\\xc6\\xc2\\xc6', b'\\xc2\\xca\\xb6\\xfb', b'\\xc2\\xca\\xc8\\xbb', b'\\xc2\\xd4', b'\\xc2\\xd4\\xbc\\xd3', b'\\xc2\\xd4\\xce\\xa2', b'\\xc2\\xd4\\xce\\xaa', b'\\xc2\\xdb\\xcb\\xb5', b'\\xc2\\xed\\xc9\\xcf', b'\\xc2\\xf9', b'\\xc2\\xfa', b'\\xc3\\xbb', b'\\xc3\\xbb\\xd3\\xd0', b'\\xc3\\xbf\\xb7\\xea', b'\\xc3\\xbf\\xc3\\xbf', b'\\xc3\\xbf\\xca\\xb1\\xc3\\xbf\\xbf\\xcc', b'\\xc3\\xcd\\xc8\\xbb', b'\\xc3\\xcd\\xc8\\xbb\\xbc\\xe4', b'\\xc4\\xaa', b'\\xc4\\xaa\\xb2\\xbb', b'\\xc4\\xaa\\xb7\\xc7', b'\\xc4\\xaa\\xc8\\xe7', b'\\xc4\\xac\\xc4\\xac\\xb5\\xd8', b'\\xc4\\xac\\xc8\\xbb', b'\\xc4\\xc5', b'\\xc4\\xc7\\xc4\\xa9', b'\\xc4\\xce', b'\\xc4\\xd1\\xb5\\xc0', b'\\xc4\\xd1\\xb5\\xc3', b'\\xc4\\xd1\\xb9\\xd6', b'\\xc4\\xd1\\xcb\\xb5', b'\\xc4\\xda', b'\\xc4\\xea\\xb8\\xb4\\xd2\\xbb\\xc4\\xea', b'\\xc4\\xfd\\xc9\\xf1', b'\\xc5\\xbc\\xb6\\xf8', b'\\xc5\\xbc\\xb6\\xfb', b'\\xc5\\xc2', b'\\xc5\\xe9', b'\\xc5\\xf6\\xc7\\xc9', b'\\xc6\\xa9\\xc8\\xe7', b'\\xc6\\xab\\xc6\\xab', b'\\xc6\\xb9', b'\\xc6\\xbd\\xcb\\xd8', b'\\xc6\\xc4', b'\\xc6\\xc8\\xd3\\xda', b'\\xc6\\xcb\\xcd\\xa8', b'\\xc6\\xe4\\xba\\xf3', b'\\xc6\\xe4\\xca\\xb5', b'\\xc6\\xe6', b'\\xc6\\xeb', b'\\xc6\\xf0\\xb3\\xf5', b'\\xc6\\xf0\\xc0\\xb4', b'\\xc6\\xf0\\xca\\xd7', b'\\xc6\\xf0\\xcd\\xb7', b'\\xc6\\xf0\\xcf\\xc8', b'\\xc6\\xf1', b'\\xc6\\xf1\\xb7\\xc7', b'\\xc6\\xf1\\xd6\\xb9', b'\\xc6\\xf9', b'\\xc7\\xa1\\xb7\\xea', b'\\xc7\\xa1\\xba\\xc3', b'\\xc7\\xa1\\xc7\\xa1', b'\\xc7\\xa1\\xc7\\xc9', b'\\xc7\\xa1\\xc8\\xe7', b'\\xc7\\xa1\\xcb\\xc6', b'\\xc7\\xa7', b'\\xc7\\xa7\\xcd\\xf2', b'\\xc7\\xa7\\xcd\\xf2\\xc7\\xa7\\xcd\\xf2', b'\\xc7\\xd0', b'\\xc7\\xd0\\xb2\\xbb\\xbf\\xc9', b'\\xc7\\xd0\\xc4\\xaa', b'\\xc7\\xd0\\xc7\\xd0', b'\\xc7\\xd0\\xce\\xf0', b'\\xc7\\xd4', b'\\xc7\\xd7\\xbf\\xda', b'\\xc7\\xd7\\xc9\\xed', b'\\xc7\\xd7\\xca\\xd6', b'\\xc7\\xd7\\xd1\\xdb', b'\\xc7\\xd7\\xd7\\xd4', b'\\xc7\\xea', b'\\xc7\\xea\\xbf\\xcc', b'\\xc7\\xea\\xbf\\xcc\\xbc\\xe4', b'\\xc7\\xea\\xbf\\xcc\\xd6\\xae\\xbc\\xe4', b'\\xc7\\xeb\\xce\\xf0', b'\\xc7\\xee\\xc4\\xea\\xc0\\xdb\\xd4\\xc2', b'\\xc8\\xa1\\xb5\\xc0', b'\\xc8\\xa5', b'\\xc8\\xa8\\xca\\xb1', b'\\xc8\\xab\\xb6\\xbc', b'\\xc8\\xab\\xc1\\xa6', b'\\xc8\\xab\\xc4\\xea', b'\\xc8\\xab\\xc8\\xbb', b'\\xc8\\xab\\xc9\\xed\\xd0\\xc4', b'\\xc8\\xbb', b'\\xc8\\xcb\\xc8\\xcb', b'\\xc8\\xd4', b'\\xc8\\xd4\\xbe\\xc9', b'\\xc8\\xd4\\xc8\\xbb', b'\\xc8\\xd5\\xb8\\xb4\\xd2\\xbb\\xc8\\xd5', b'\\xc8\\xd5\\xbc\\xfb', b'\\xc8\\xd5\\xbd\\xa5', b'\\xc8\\xd5\\xd2\\xe6', b'\\xc8\\xd5\\xd5\\xe9', b'\\xc8\\xe7\\xb3\\xa3', b'\\xc8\\xe7\\xb4\\xcb\\xb5\\xc8\\xb5\\xc8', b'\\xc8\\xe7\\xb4\\xce', b'\\xc8\\xe7\\xbd\\xf1', b'\\xc8\\xe7\\xc6\\xda', b'\\xc8\\xe7\\xc7\\xb0\\xcb\\xf9\\xca\\xf6', b'\\xc8\\xe7\\xc9\\xcf', b'\\xc8\\xe7\\xcf\\xc2', b'\\xc8\\xea', b'\\xc8\\xfd\\xb7\\xac\\xc1\\xbd\\xb4\\xce', b'\\xc8\\xfd\\xb7\\xac\\xce\\xe5\\xb4\\xce', b'\\xc8\\xfd\\xcc\\xec\\xc1\\xbd\\xcd\\xb7', b'\\xc9\\xaa\\xc9\\xaa', b'\\xc9\\xb3\\xc9\\xb3', b'\\xc9\\xcf', b'\\xc9\\xcf\\xc0\\xb4', b'\\xc9\\xcf\\xc8\\xa5']\n"
     ]
    }
   ],
   "source": [
    "print(stpwrdlst)"
   ]
  },
  {
   "cell_type": "markdown",
   "metadata": {},
   "source": [
    "# 7. 中文文本挖掘预处理六：特征处理\n",
    "　　　　现在我们就可以用scikit-learn来对我们的文本特征进行处理了，在文本挖掘预处理之向量化与Hash Trick中，我们讲到了两种特征处理的方法，向量化与Hash Trick。而向量化是最常用的方法，因为它可以接着进行TF-IDF的特征处理。在文本挖掘预处理之TF-IDF中，我们也讲到了TF-IDF特征处理的方法。这里我们就用scikit-learn的TfidfVectorizer类来进行TF-IDF特征处理。\n",
    "\n",
    "　　　　TfidfVectorizer类可以帮助我们完成向量化，TF-IDF和标准化三步。当然，还可以帮我们处理停用词。\n",
    "\n",
    "　　　　现在我们把上面分词好的文本载入内存：\n",
    "\n"
   ]
  },
  {
   "cell_type": "code",
   "execution_count": 19,
   "metadata": {},
   "outputs": [
    {
     "name": "stdout",
     "output_type": "stream",
     "text": [
      "沙瑞金 赞叹 易学习 的 胸怀 ， 是 金山 的 百姓 有福 ， 可是 这件 事对 李达康 的 触动 很大 。 易学习 又 回忆起 他们 三人 分开 的 前一晚 ， 大家 一起 喝酒 话别 ， 易学习 被 降职 到 道口 县当 县长 ， 王大路 下海经商 ， 李达康 连连 赔礼道歉 ， 觉得 对不起 大家 ， 他 最 对不起 的 是 王大路 ， 就 和 易学习 一起 给 王大路 凑 了 5 万块 钱 ， 王大路 自己 东挪西撮 了 5 万块 ， 开始 下海经商 。 没想到 后来 王大路 竟然 做 得 风生水 起 。 沙瑞金 觉得 他们 三人 ， 在 困难 时期 还 能 以沫 相助 ， 很 不 容易 。\n",
      "沙瑞金 向 毛娅 打听 他们 家 在 京州 的 别墅 ， 毛娅 笑 着 说 ， 王大路 事业有成 之后 ， 要 给 欧阳 菁 和 她 公司 的 股权 ， 她们 没有 要 ， 王大路 就 在 京州 帝豪园 买 了 三套 别墅 ， 可是 李达康 和 易学习 都 不要 ， 这些 房子 都 在 王大路 的 名下 ， 欧阳 菁 好像 去 住 过 ， 毛娅 不想 去 ， 她 觉得 房子 太大 很 浪费 ， 自己 家住 得 就 很 踏实 。\n"
     ]
    }
   ],
   "source": [
    "with open('./nlp_test1.txt') as f3:\n",
    "    res1 = f3.read()\n",
    "print (res1)\n",
    "with open('./nlp_test3.txt') as f4:\n",
    "    res2 = f4.read()\n",
    "print (res2)"
   ]
  },
  {
   "cell_type": "markdown",
   "metadata": {},
   "source": [
    "这里的输出还是我们上面分完词的文本。现在我们可以进行向量化，TF-IDF和标准化三步处理了。注意，这里我们引入了我们上面的停用词表。"
   ]
  },
  {
   "cell_type": "code",
   "execution_count": 20,
   "metadata": {},
   "outputs": [
    {
     "name": "stdout",
     "output_type": "stream",
     "text": [
      "  (0, 44)\t0.15446743493280246\n",
      "  (0, 59)\t0.10854929506851102\n",
      "  (0, 39)\t0.3089348698656049\n",
      "  (0, 53)\t0.10854929506851102\n",
      "  (0, 65)\t0.10854929506851102\n",
      "  (0, 49)\t0.10854929506851102\n",
      "  (0, 40)\t0.10854929506851102\n",
      "  (0, 20)\t0.07723371746640123\n",
      "  (0, 62)\t0.10854929506851102\n",
      "  (0, 10)\t0.10854929506851102\n",
      "  (0, 41)\t0.15446743493280246\n",
      "  (0, 56)\t0.10854929506851102\n",
      "  (0, 35)\t0.10854929506851102\n",
      "  (0, 24)\t0.10854929506851102\n",
      "  (0, 12)\t0.15446743493280246\n",
      "  (0, 2)\t0.21709859013702204\n",
      "  (0, 15)\t0.10854929506851102\n",
      "  (0, 17)\t0.10854929506851102\n",
      "  (0, 26)\t0.21709859013702204\n",
      "  (0, 0)\t0.21709859013702204\n",
      "  (0, 23)\t0.10854929506851102\n",
      "  (0, 57)\t0.10854929506851102\n",
      "  (0, 66)\t0.10854929506851102\n",
      "  (0, 64)\t0.10854929506851102\n",
      "  (0, 18)\t0.10854929506851102\n",
      "  :\t:\n",
      "  (1, 55)\t0.09953364110656572\n",
      "  (1, 54)\t0.09953364110656572\n",
      "  (1, 43)\t0.41967317897471584\n",
      "  (1, 37)\t0.13989105965823861\n",
      "  (1, 11)\t0.27978211931647723\n",
      "  (1, 16)\t0.27978211931647723\n",
      "  (1, 9)\t0.13989105965823861\n",
      "  (1, 8)\t0.13989105965823861\n",
      "  (1, 42)\t0.27978211931647723\n",
      "  (1, 14)\t0.13989105965823861\n",
      "  (1, 52)\t0.13989105965823861\n",
      "  (1, 28)\t0.13989105965823861\n",
      "  (1, 46)\t0.13989105965823861\n",
      "  (1, 33)\t0.13989105965823861\n",
      "  (1, 3)\t0.13989105965823861\n",
      "  (1, 6)\t0.13989105965823861\n",
      "  (1, 61)\t0.13989105965823861\n",
      "  (1, 36)\t0.27978211931647723\n",
      "  (1, 21)\t0.13989105965823861\n",
      "  (1, 29)\t0.13989105965823861\n",
      "  (1, 5)\t0.13989105965823861\n",
      "  (1, 27)\t0.13989105965823861\n",
      "  (1, 47)\t0.13989105965823861\n",
      "  (1, 30)\t0.13989105965823861\n",
      "  (1, 60)\t0.13989105965823861\n"
     ]
    }
   ],
   "source": [
    "from sklearn.feature_extraction.text import TfidfVectorizer\n",
    "corpus = [res1,res2]\n",
    "vector = TfidfVectorizer(stop_words=stpwrdlst)\n",
    "tfidf = vector.fit_transform(corpus)\n",
    "print (tfidf)"
   ]
  },
  {
   "cell_type": "markdown",
   "metadata": {},
   "source": [
    "我们再来看看每次词和TF-IDF的对应关系："
   ]
  },
  {
   "cell_type": "code",
   "execution_count": 21,
   "metadata": {},
   "outputs": [
    {
     "name": "stdout",
     "output_type": "stream",
     "text": [
      "-------第 0 段文本的词语tf-idf权重------\n",
      "一起 0.21709859013702204\n",
      "万块 0.21709859013702204\n",
      "三人 0.21709859013702204\n",
      "三套 0.0\n",
      "下海经商 0.21709859013702204\n",
      "不想 0.0\n",
      "不要 0.0\n",
      "东挪西撮 0.10854929506851102\n",
      "之后 0.0\n",
      "事业有成 0.0\n",
      "事对 0.10854929506851102\n",
      "京州 0.0\n",
      "他们 0.15446743493280246\n",
      "以沫 0.10854929506851102\n",
      "公司 0.0\n",
      "分开 0.10854929506851102\n",
      "别墅 0.0\n",
      "前一晚 0.10854929506851102\n",
      "县当 0.10854929506851102\n",
      "县长 0.10854929506851102\n",
      "可是 0.07723371746640123\n",
      "名下 0.0\n",
      "后来 0.10854929506851102\n",
      "喝酒 0.10854929506851102\n",
      "回忆起 0.10854929506851102\n",
      "困难 0.10854929506851102\n",
      "大家 0.21709859013702204\n",
      "太大 0.0\n",
      "她们 0.0\n",
      "好像 0.0\n",
      "家住 0.0\n",
      "容易 0.10854929506851102\n",
      "对不起 0.21709859013702204\n",
      "帝豪园 0.0\n",
      "开始 0.10854929506851102\n",
      "很大 0.10854929506851102\n",
      "房子 0.0\n",
      "打听 0.0\n",
      "时期 0.10854929506851102\n",
      "易学习 0.3089348698656049\n",
      "有福 0.10854929506851102\n",
      "李达康 0.15446743493280246\n",
      "欧阳 0.0\n",
      "毛娅 0.0\n",
      "沙瑞金 0.15446743493280246\n",
      "没想到 0.10854929506851102\n",
      "没有 0.0\n",
      "浪费 0.0\n",
      "王大路 0.38616858733200615\n",
      "百姓 0.10854929506851102\n",
      "相助 0.10854929506851102\n",
      "竟然 0.10854929506851102\n",
      "股权 0.0\n",
      "胸怀 0.10854929506851102\n",
      "自己 0.07723371746640123\n",
      "觉得 0.15446743493280246\n",
      "触动 0.10854929506851102\n",
      "话别 0.10854929506851102\n",
      "赔礼道歉 0.10854929506851102\n",
      "赞叹 0.10854929506851102\n",
      "踏实 0.0\n",
      "这些 0.0\n",
      "这件 0.10854929506851102\n",
      "连连 0.10854929506851102\n",
      "道口 0.10854929506851102\n",
      "金山 0.10854929506851102\n",
      "降职 0.10854929506851102\n",
      "风生水 0.10854929506851102\n",
      "-------第 1 段文本的词语tf-idf权重------\n",
      "一起 0.0\n",
      "万块 0.0\n",
      "三人 0.0\n",
      "三套 0.13989105965823861\n",
      "下海经商 0.0\n",
      "不想 0.13989105965823861\n",
      "不要 0.13989105965823861\n",
      "东挪西撮 0.0\n",
      "之后 0.13989105965823861\n",
      "事业有成 0.13989105965823861\n",
      "事对 0.0\n",
      "京州 0.27978211931647723\n",
      "他们 0.09953364110656572\n",
      "以沫 0.0\n",
      "公司 0.13989105965823861\n",
      "分开 0.0\n",
      "别墅 0.27978211931647723\n",
      "前一晚 0.0\n",
      "县当 0.0\n",
      "县长 0.0\n",
      "可是 0.09953364110656572\n",
      "名下 0.13989105965823861\n",
      "后来 0.0\n",
      "喝酒 0.0\n",
      "回忆起 0.0\n",
      "困难 0.0\n",
      "大家 0.0\n",
      "太大 0.13989105965823861\n",
      "她们 0.13989105965823861\n",
      "好像 0.13989105965823861\n",
      "家住 0.13989105965823861\n",
      "容易 0.0\n",
      "对不起 0.0\n",
      "帝豪园 0.13989105965823861\n",
      "开始 0.0\n",
      "很大 0.0\n",
      "房子 0.27978211931647723\n",
      "打听 0.13989105965823861\n",
      "时期 0.0\n",
      "易学习 0.09953364110656572\n",
      "有福 0.0\n",
      "李达康 0.09953364110656572\n",
      "欧阳 0.27978211931647723\n",
      "毛娅 0.41967317897471584\n",
      "沙瑞金 0.09953364110656572\n",
      "没想到 0.0\n",
      "没有 0.13989105965823861\n",
      "浪费 0.13989105965823861\n",
      "王大路 0.2986009233196972\n",
      "百姓 0.0\n",
      "相助 0.0\n",
      "竟然 0.0\n",
      "股权 0.13989105965823861\n",
      "胸怀 0.0\n",
      "自己 0.09953364110656572\n",
      "觉得 0.09953364110656572\n",
      "触动 0.0\n",
      "话别 0.0\n",
      "赔礼道歉 0.0\n",
      "赞叹 0.0\n",
      "踏实 0.13989105965823861\n",
      "这些 0.13989105965823861\n",
      "这件 0.0\n",
      "连连 0.0\n",
      "道口 0.0\n",
      "金山 0.0\n",
      "降职 0.0\n",
      "风生水 0.0\n"
     ]
    }
   ],
   "source": [
    "wordlist = vector.get_feature_names()#获取词袋模型中的所有词  \n",
    "# tf-idf矩阵 元素a[i][j]表示j词在i类文本中的tf-idf权重\n",
    "weightlist = tfidf.toarray()  \n",
    "#打印每类文本的tf-idf词语权重，第一个for遍历所有文本，第二个for便利某一类文本下的词语权重\n",
    "for i in range(len(weightlist)):  \n",
    "    print( \"-------第\",i,\"段文本的词语tf-idf权重------\" ) \n",
    "    for j in range(len(wordlist)):  \n",
    "        print (wordlist[j],weightlist[i][j])"
   ]
  },
  {
   "cell_type": "markdown",
   "metadata": {},
   "source": [
    "# 8. 中文文本挖掘预处理七：建立分析模型\n",
    "　　　　有了每段文本的TF-IDF的特征向量，我们就可以利用这些数据建立分类模型，或者聚类模型了，或者进行主题模型的分析。比如我们上面的两段文本，就可以是两个训练样本了。此时的分类聚类模型和之前讲的非自然语言处理的数据分析没有什么两样。因此对应的算法都可以直接使用。而主题模型是自然语言处理比较特殊的一块，这个我们后面再单独讲。\n",
    "\n",
    "# 9.中文文本挖掘预处理总结\n",
    "　　　　上面我们对中文文本挖掘预处理的过程做了一个总结，希望可以帮助到大家。需要注意的是这个流程主要针对一些常用的文本挖掘，并使用了词袋模型，对于某一些自然语言处理的需求则流程需要修改。比如我们涉及到词上下文关系的一些需求，此时不能使用词袋模型。而有时候我们对于特征的处理有自己的特殊需求，因此这个流程仅供自然语言处理入门者参考。"
   ]
  },
  {
   "cell_type": "code",
   "execution_count": null,
   "metadata": {},
   "outputs": [],
   "source": []
  }
 ],
 "metadata": {
  "kernelspec": {
   "display_name": "Python 3",
   "language": "python",
   "name": "python3"
  },
  "language_info": {
   "codemirror_mode": {
    "name": "ipython",
    "version": 3
   },
   "file_extension": ".py",
   "mimetype": "text/x-python",
   "name": "python",
   "nbconvert_exporter": "python",
   "pygments_lexer": "ipython3",
   "version": "3.7.0"
  }
 },
 "nbformat": 4,
 "nbformat_minor": 2
}
